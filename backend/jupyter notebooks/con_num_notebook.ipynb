{
 "cells": [
  {
   "cell_type": "code",
   "execution_count": 12,
   "metadata": {},
   "outputs": [
    {
     "name": "stdout",
     "output_type": "stream",
     "text": [
      "[{'member_id': 'A000069', 'con_num': 103, 'chamber_name': 'senate'}, {'member_id': 'B000243', 'con_num': 103, 'chamber_name': 'senate'}, {'member_id': 'B000382', 'con_num': 103, 'chamber_name': 'senate'}, {'member_id': 'B000401', 'con_num': 103, 'chamber_name': 'senate'}, {'member_id': 'B000444', 'con_num': 103, 'chamber_name': 'senate'}, {'member_id': 'B000468', 'con_num': 103, 'chamber_name': 'senate'}, {'member_id': 'B000611', 'con_num': 103, 'chamber_name': 'senate'}, {'member_id': 'B000639', 'con_num': 103, 'chamber_name': 'senate'}, {'member_id': 'B000711', 'con_num': 103, 'chamber_name': 'senate'}, {'member_id': 'B001225', 'con_num': 103, 'chamber_name': 'senate'}, {'member_id': 'B000780', 'con_num': 103, 'chamber_name': 'senate'}, {'member_id': 'B000919', 'con_num': 103, 'chamber_name': 'senate'}, {'member_id': 'B000993', 'con_num': 103, 'chamber_name': 'senate'}, {'member_id': 'B001057', 'con_num': 103, 'chamber_name': 'senate'}, {'member_id': 'B001126', 'con_num': 103, 'chamber_name': 'senate'}, {'member_id': 'B001210', 'con_num': 103, 'chamber_name': 'senate'}, {'member_id': 'C000077', 'con_num': 103, 'chamber_name': 'senate'}, {'member_id': 'C000269', 'con_num': 103, 'chamber_name': 'senate'}, {'member_id': 'C000542', 'con_num': 103, 'chamber_name': 'senate'}, {'member_id': 'C000567', 'con_num': 103, 'chamber_name': 'senate'}, {'member_id': 'C000598', 'con_num': 103, 'chamber_name': 'senate'}, {'member_id': 'C000705', 'con_num': 103, 'chamber_name': 'senate'}, {'member_id': 'C000813', 'con_num': 103, 'chamber_name': 'senate'}, {'member_id': 'C000858', 'con_num': 103, 'chamber_name': 'senate'}, {'member_id': 'D000018', 'con_num': 103, 'chamber_name': 'senate'}, {'member_id': 'D000030', 'con_num': 103, 'chamber_name': 'senate'}, {'member_id': 'D000064', 'con_num': 103, 'chamber_name': 'senate'}, {'member_id': 'D000185', 'con_num': 103, 'chamber_name': 'senate'}, {'member_id': 'D000388', 'con_num': 103, 'chamber_name': 'senate'}, {'member_id': 'D000401', 'con_num': 103, 'chamber_name': 'senate'}, {'member_id': 'D000407', 'con_num': 103, 'chamber_name': 'senate'}, {'member_id': 'D000432', 'con_num': 103, 'chamber_name': 'senate'}, {'member_id': 'D000566', 'con_num': 103, 'chamber_name': 'senate'}, {'member_id': 'E000284', 'con_num': 103, 'chamber_name': 'senate'}, {'member_id': 'F000437', 'con_num': 103, 'chamber_name': 'senate'}, {'member_id': 'F000061', 'con_num': 103, 'chamber_name': 'senate'}, {'member_id': 'F000062', 'con_num': 103, 'chamber_name': 'senate'}, {'member_id': 'F000268', 'con_num': 103, 'chamber_name': 'senate'}, {'member_id': 'G000236', 'con_num': 103, 'chamber_name': 'senate'}, {'member_id': 'G000333', 'con_num': 103, 'chamber_name': 'senate'}, {'member_id': 'G000352', 'con_num': 103, 'chamber_name': 'senate'}, {'member_id': 'G000365', 'con_num': 103, 'chamber_name': 'senate'}, {'member_id': 'G000386', 'con_num': 103, 'chamber_name': 'senate'}, {'member_id': 'G000445', 'con_num': 103, 'chamber_name': 'senate'}, {'member_id': 'H000206', 'con_num': 103, 'chamber_name': 'senate'}, {'member_id': 'H000338', 'con_num': 103, 'chamber_name': 'senate'}, {'member_id': 'H000343', 'con_num': 103, 'chamber_name': 'senate'}, {'member_id': 'H000445', 'con_num': 103, 'chamber_name': 'senate'}, {'member_id': 'H000463', 'con_num': 103, 'chamber_name': 'senate'}, {'member_id': 'H000725', 'con_num': 103, 'chamber_name': 'senate'}, {'member_id': 'H001016', 'con_num': 103, 'chamber_name': 'senate'}, {'member_id': 'I000024', 'con_num': 103, 'chamber_name': 'senate'}, {'member_id': 'I000025', 'con_num': 103, 'chamber_name': 'senate'}, {'member_id': 'J000072', 'con_num': 103, 'chamber_name': 'senate'}, {'member_id': 'J000189', 'con_num': 103, 'chamber_name': 'senate'}, {'member_id': 'K000017', 'con_num': 103, 'chamber_name': 'senate'}, {'member_id': 'K000088', 'con_num': 103, 'chamber_name': 'senate'}, {'member_id': 'K000105', 'con_num': 103, 'chamber_name': 'senate'}, {'member_id': 'K000146', 'con_num': 103, 'chamber_name': 'senate'}, {'member_id': 'K000148', 'con_num': 103, 'chamber_name': 'senate'}, {'member_id': 'K000305', 'con_num': 103, 'chamber_name': 'senate'}, {'member_id': 'K000333', 'con_num': 103, 'chamber_name': 'senate'}, {'member_id': 'L000123', 'con_num': 103, 'chamber_name': 'senate'}, {'member_id': 'L000174', 'con_num': 103, 'chamber_name': 'senate'}, {'member_id': 'L000261', 'con_num': 103, 'chamber_name': 'senate'}, {'member_id': 'L000304', 'con_num': 103, 'chamber_name': 'senate'}, {'member_id': 'L000447', 'con_num': 103, 'chamber_name': 'senate'}, {'member_id': 'L000504', 'con_num': 103, 'chamber_name': 'senate'}, {'member_id': 'M000019', 'con_num': 103, 'chamber_name': 'senate'}, {'member_id': 'M000236', 'con_num': 103, 'chamber_name': 'senate'}, {'member_id': 'M000303', 'con_num': 103, 'chamber_name': 'senate'}, {'member_id': 'M000355', 'con_num': 103, 'chamber_name': 'senate'}, {'member_id': 'M000678', 'con_num': 103, 'chamber_name': 'senate'}, {'member_id': 'M000702', 'con_num': 103, 'chamber_name': 'senate'}, {'member_id': 'M000811', 'con_num': 103, 'chamber_name': 'senate'}, {'member_id': 'M001025', 'con_num': 103, 'chamber_name': 'senate'}, {'member_id': 'M001054', 'con_num': 103, 'chamber_name': 'senate'}, {'member_id': 'M001085', 'con_num': 103, 'chamber_name': 'senate'}, {'member_id': 'M001111', 'con_num': 103, 'chamber_name': 'senate'}, {'member_id': 'N000102', 'con_num': 103, 'chamber_name': 'senate'}, {'member_id': 'N000171', 'con_num': 103, 'chamber_name': 'senate'}, {'member_id': 'P000009', 'con_num': 103, 'chamber_name': 'senate'}, {'member_id': 'P000193', 'con_num': 103, 'chamber_name': 'senate'}, {'member_id': 'P000513', 'con_num': 103, 'chamber_name': 'senate'}, {'member_id': 'P000556', 'con_num': 103, 'chamber_name': 'senate'}, {'member_id': 'R000146', 'con_num': 103, 'chamber_name': 'senate'}, {'member_id': 'R000249', 'con_num': 103, 'chamber_name': 'senate'}, {'member_id': 'R000295', 'con_num': 103, 'chamber_name': 'senate'}, {'member_id': 'R000361', 'con_num': 103, 'chamber_name': 'senate'}, {'member_id': 'R000460', 'con_num': 103, 'chamber_name': 'senate'}, {'member_id': 'S000064', 'con_num': 103, 'chamber_name': 'senate'}, {'member_id': 'S000068', 'con_num': 103, 'chamber_name': 'senate'}, {'member_id': 'S000320', 'con_num': 103, 'chamber_name': 'senate'}, {'member_id': 'S000320', 'con_num': 103, 'chamber_name': 'senate'}, {'member_id': 'S000423', 'con_num': 103, 'chamber_name': 'senate'}, {'member_id': 'S000429', 'con_num': 103, 'chamber_name': 'senate'}, {'member_id': 'S000606', 'con_num': 103, 'chamber_name': 'senate'}, {'member_id': 'S000709', 'con_num': 103, 'chamber_name': 'senate'}, {'member_id': 'S000888', 'con_num': 103, 'chamber_name': 'senate'}, {'member_id': 'T000457', 'con_num': 103, 'chamber_name': 'senate'}, {'member_id': 'T000254', 'con_num': 103, 'chamber_name': 'senate'}, {'member_id': 'W000092', 'con_num': 103, 'chamber_name': 'senate'}, {'member_id': 'W000154', 'con_num': 103, 'chamber_name': 'senate'}, {'member_id': 'W000288', 'con_num': 103, 'chamber_name': 'senate'}, {'member_id': 'W000665', 'con_num': 103, 'chamber_name': 'senate'}]\n",
      "(7731, 3)\n",
      "  chamber_name  con_num member_id\n",
      "0       senate      103   A000069\n",
      "1       senate      103   B000243\n",
      "2       senate      103   B000382\n",
      "3       senate      103   B000401\n",
      "4       senate      103   B000444\n"
     ]
    }
   ],
   "source": [
    "import pandas as pd\n",
    "import requests\n",
    "\n",
    "def get_congresses():\n",
    "    headers = {\n",
    "        'X-API-Key': 'aLPU1BjfQphfOWjE0Z7Y1tB2pRRvGJl5loZe37U3',\n",
    "        'Content-Type': 'application/json',\n",
    "        'Accept': 'application/json'\n",
    "    } \n",
    "\n",
    "    default_url = \"https://gitlab.com/patelojasv/cs373-web/raw/master/frontend/empoweringknowledge/src/emptyperson.png\"\n",
    "    headers_image = { 'User-Agent': 'Chrome/32.0.1700.107'}\n",
    "    \n",
    "    entry_list = []\n",
    "    chambers = ['senate', 'house']\n",
    "\n",
    "    # Congress meetings that overlap with available bill data (1993-present)\n",
    "    for con_num in range(103, 117):\n",
    "        for ch_name in chambers:\n",
    "            response = requests.get('https://api.propublica.org/congress/v1/{}/{}/members.json'.format(con_num, ch_name), headers=headers)\n",
    "            if response.status_code != 200:\n",
    "                return None\n",
    "            \n",
    "            data = response.json()\n",
    "            members = data['results'][0]['members']\n",
    "            df = pd.DataFrame(members)\n",
    "           \n",
    "            for index, row in df.iterrows():\n",
    "                member_id = row['id']\n",
    "                member_dict = {}\n",
    "                member_dict['member_id'] = member_id\n",
    "                member_dict['con_num'] = con_num\n",
    "                member_dict['chamber_name'] = ch_name\n",
    "                entry_list.append(member_dict)\n",
    "                \n",
    "            if (con_num == 103 and ch_name == 'senate'):\n",
    "                print(entry_list)\n",
    "                \n",
    "    return pd.DataFrame(entry_list)\n",
    "\n",
    "ret = get_congresses()\n",
    "print(ret.shape)\n",
    "print(ret.head())"
   ]
  },
  {
   "cell_type": "code",
   "execution_count": null,
   "metadata": {},
   "outputs": [],
   "source": []
  },
  {
   "cell_type": "code",
   "execution_count": null,
   "metadata": {},
   "outputs": [],
   "source": []
  }
 ],
 "metadata": {
  "kernelspec": {
   "display_name": "Python 3",
   "language": "python",
   "name": "python3"
  },
  "language_info": {
   "codemirror_mode": {
    "name": "ipython",
    "version": 3
   },
   "file_extension": ".py",
   "mimetype": "text/x-python",
   "name": "python",
   "nbconvert_exporter": "python",
   "pygments_lexer": "ipython3",
   "version": "3.7.3"
  }
 },
 "nbformat": 4,
 "nbformat_minor": 2
}
